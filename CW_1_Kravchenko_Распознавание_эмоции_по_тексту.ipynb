{
  "nbformat": 4,
  "nbformat_minor": 0,
  "metadata": {
    "colab": {
      "provenance": [],
      "gpuType": "T4",
      "authorship_tag": "ABX9TyOXNAGVJWdr3o6tdtR0UKCD",
      "include_colab_link": true
    },
    "kernelspec": {
      "name": "python3",
      "display_name": "Python 3"
    },
    "language_info": {
      "name": "python"
    },
    "accelerator": "GPU"
  },
  "cells": [
    {
      "cell_type": "markdown",
      "metadata": {
        "id": "view-in-github",
        "colab_type": "text"
      },
      "source": [
        "<a href=\"https://colab.research.google.com/github/Lb350/ML_Predict_emotion_from_text/blob/main/CW_1_Kravchenko_%D0%A0%D0%B0%D1%81%D0%BF%D0%BE%D0%B7%D0%BD%D0%B0%D0%B2%D0%B0%D0%BD%D0%B8%D0%B5_%D1%8D%D0%BC%D0%BE%D1%86%D0%B8%D0%B8_%D0%BF%D0%BE_%D1%82%D0%B5%D0%BA%D1%81%D1%82%D1%83.ipynb\" target=\"_parent\"><img src=\"https://colab.research.google.com/assets/colab-badge.svg\" alt=\"Open In Colab\"/></a>"
      ]
    },
    {
      "cell_type": "code",
      "source": [
        "from requests import get\n",
        "import os\n",
        "import pandas as pd\n",
        "\n",
        "import plotly.graph_objects as go\n",
        "import matplotlib.pyplot as plt\n",
        "import seaborn as sns\n",
        "\n",
        "from sklearn.model_selection import train_test_split\n",
        "from sklearn.feature_extraction.text import TfidfVectorizer\n",
        "from sklearn.linear_model import LogisticRegression\n",
        "from sklearn.metrics import classification_report\n",
        "from sklearn.metrics import accuracy_score, confusion_matrix"
      ],
      "metadata": {
        "id": "WJaaSTyISFb4"
      },
      "execution_count": 2,
      "outputs": []
    },
    {
      "cell_type": "markdown",
      "source": [
        "***Изучаем датасет***" ":detective:" 
      ],
      "metadata": {
        "id": "UekHYnULUQVN"
      }
    },
    {
      "cell_type": "code",
      "execution_count": 3,
      "metadata": {
        "id": "onkCUX19rFTy"
      },
      "outputs": [],
      "source": [
        "response = get('https://drive.usercontent.google.com/u/0/uc?id=15-JfIrvzCxa-9EWdHgGb64aPGw76M8ax&export=download')\n",
        "\n",
        "with open('emotion_text.csv', 'wb') as f:\n",
        "  f.write(response.content)\n",
        "\n",
        "FILE_PATH = './'\n",
        "os.listdir(FILE_PATH)\n",
        "df = pd.read_csv(f'{FILE_PATH}emotion_text.csv')\n"
      ]
    },
    {
      "cell_type": "code",
      "source": [
        "df.info(verbose=True)"
      ],
      "metadata": {
        "colab": {
          "base_uri": "https://localhost:8080/"
        },
        "id": "kYEoA9R6Ulka",
        "outputId": "e0e27dfd-1949-4071-869a-fce7533d736e"
      },
      "execution_count": 4,
      "outputs": [
        {
          "output_type": "stream",
          "name": "stdout",
          "text": [
            "<class 'pandas.core.frame.DataFrame'>\n",
            "RangeIndex: 416809 entries, 0 to 416808\n",
            "Data columns (total 3 columns):\n",
            " #   Column      Non-Null Count   Dtype \n",
            "---  ------      --------------   ----- \n",
            " 0   Unnamed: 0  416809 non-null  int64 \n",
            " 1   text        416809 non-null  object\n",
            " 2   label       416809 non-null  int64 \n",
            "dtypes: int64(2), object(1)\n",
            "memory usage: 9.5+ MB\n"
          ]
        }
      ]
    },
    {
      "cell_type": "code",
      "source": [
        "df.head()"
      ],
      "metadata": {
        "colab": {
          "base_uri": "https://localhost:8080/",
          "height": 206
        },
        "id": "NCqn3oFzVdNj",
        "outputId": "679e85ca-eb4e-4fdd-a1a2-9cc14d639d18"
      },
      "execution_count": 5,
      "outputs": [
        {
          "output_type": "execute_result",
          "data": {
            "text/plain": [
              "   Unnamed: 0                                               text  label\n",
              "0           0      i just feel really helpless and heavy hearted      4\n",
              "1           1  ive enjoyed being able to slouch about relax a...      0\n",
              "2           2  i gave up my internship with the dmrg and am f...      4\n",
              "3           3                         i dont know i feel so lost      0\n",
              "4           4  i am a kindergarten teacher and i am thoroughl...      4"
            ],
            "text/html": [
              "\n",
              "  <div id=\"df-cfa479c9-d9fd-411c-ba4f-c8a3844f5b47\" class=\"colab-df-container\">\n",
              "    <div>\n",
              "<style scoped>\n",
              "    .dataframe tbody tr th:only-of-type {\n",
              "        vertical-align: middle;\n",
              "    }\n",
              "\n",
              "    .dataframe tbody tr th {\n",
              "        vertical-align: top;\n",
              "    }\n",
              "\n",
              "    .dataframe thead th {\n",
              "        text-align: right;\n",
              "    }\n",
              "</style>\n",
              "<table border=\"1\" class=\"dataframe\">\n",
              "  <thead>\n",
              "    <tr style=\"text-align: right;\">\n",
              "      <th></th>\n",
              "      <th>Unnamed: 0</th>\n",
              "      <th>text</th>\n",
              "      <th>label</th>\n",
              "    </tr>\n",
              "  </thead>\n",
              "  <tbody>\n",
              "    <tr>\n",
              "      <th>0</th>\n",
              "      <td>0</td>\n",
              "      <td>i just feel really helpless and heavy hearted</td>\n",
              "      <td>4</td>\n",
              "    </tr>\n",
              "    <tr>\n",
              "      <th>1</th>\n",
              "      <td>1</td>\n",
              "      <td>ive enjoyed being able to slouch about relax a...</td>\n",
              "      <td>0</td>\n",
              "    </tr>\n",
              "    <tr>\n",
              "      <th>2</th>\n",
              "      <td>2</td>\n",
              "      <td>i gave up my internship with the dmrg and am f...</td>\n",
              "      <td>4</td>\n",
              "    </tr>\n",
              "    <tr>\n",
              "      <th>3</th>\n",
              "      <td>3</td>\n",
              "      <td>i dont know i feel so lost</td>\n",
              "      <td>0</td>\n",
              "    </tr>\n",
              "    <tr>\n",
              "      <th>4</th>\n",
              "      <td>4</td>\n",
              "      <td>i am a kindergarten teacher and i am thoroughl...</td>\n",
              "      <td>4</td>\n",
              "    </tr>\n",
              "  </tbody>\n",
              "</table>\n",
              "</div>\n",
              "    <div class=\"colab-df-buttons\">\n",
              "\n",
              "  <div class=\"colab-df-container\">\n",
              "    <button class=\"colab-df-convert\" onclick=\"convertToInteractive('df-cfa479c9-d9fd-411c-ba4f-c8a3844f5b47')\"\n",
              "            title=\"Convert this dataframe to an interactive table.\"\n",
              "            style=\"display:none;\">\n",
              "\n",
              "  <svg xmlns=\"http://www.w3.org/2000/svg\" height=\"24px\" viewBox=\"0 -960 960 960\">\n",
              "    <path d=\"M120-120v-720h720v720H120Zm60-500h600v-160H180v160Zm220 220h160v-160H400v160Zm0 220h160v-160H400v160ZM180-400h160v-160H180v160Zm440 0h160v-160H620v160ZM180-180h160v-160H180v160Zm440 0h160v-160H620v160Z\"/>\n",
              "  </svg>\n",
              "    </button>\n",
              "\n",
              "  <style>\n",
              "    .colab-df-container {\n",
              "      display:flex;\n",
              "      gap: 12px;\n",
              "    }\n",
              "\n",
              "    .colab-df-convert {\n",
              "      background-color: #E8F0FE;\n",
              "      border: none;\n",
              "      border-radius: 50%;\n",
              "      cursor: pointer;\n",
              "      display: none;\n",
              "      fill: #1967D2;\n",
              "      height: 32px;\n",
              "      padding: 0 0 0 0;\n",
              "      width: 32px;\n",
              "    }\n",
              "\n",
              "    .colab-df-convert:hover {\n",
              "      background-color: #E2EBFA;\n",
              "      box-shadow: 0px 1px 2px rgba(60, 64, 67, 0.3), 0px 1px 3px 1px rgba(60, 64, 67, 0.15);\n",
              "      fill: #174EA6;\n",
              "    }\n",
              "\n",
              "    .colab-df-buttons div {\n",
              "      margin-bottom: 4px;\n",
              "    }\n",
              "\n",
              "    [theme=dark] .colab-df-convert {\n",
              "      background-color: #3B4455;\n",
              "      fill: #D2E3FC;\n",
              "    }\n",
              "\n",
              "    [theme=dark] .colab-df-convert:hover {\n",
              "      background-color: #434B5C;\n",
              "      box-shadow: 0px 1px 3px 1px rgba(0, 0, 0, 0.15);\n",
              "      filter: drop-shadow(0px 1px 2px rgba(0, 0, 0, 0.3));\n",
              "      fill: #FFFFFF;\n",
              "    }\n",
              "  </style>\n",
              "\n",
              "    <script>\n",
              "      const buttonEl =\n",
              "        document.querySelector('#df-cfa479c9-d9fd-411c-ba4f-c8a3844f5b47 button.colab-df-convert');\n",
              "      buttonEl.style.display =\n",
              "        google.colab.kernel.accessAllowed ? 'block' : 'none';\n",
              "\n",
              "      async function convertToInteractive(key) {\n",
              "        const element = document.querySelector('#df-cfa479c9-d9fd-411c-ba4f-c8a3844f5b47');\n",
              "        const dataTable =\n",
              "          await google.colab.kernel.invokeFunction('convertToInteractive',\n",
              "                                                    [key], {});\n",
              "        if (!dataTable) return;\n",
              "\n",
              "        const docLinkHtml = 'Like what you see? Visit the ' +\n",
              "          '<a target=\"_blank\" href=https://colab.research.google.com/notebooks/data_table.ipynb>data table notebook</a>'\n",
              "          + ' to learn more about interactive tables.';\n",
              "        element.innerHTML = '';\n",
              "        dataTable['output_type'] = 'display_data';\n",
              "        await google.colab.output.renderOutput(dataTable, element);\n",
              "        const docLink = document.createElement('div');\n",
              "        docLink.innerHTML = docLinkHtml;\n",
              "        element.appendChild(docLink);\n",
              "      }\n",
              "    </script>\n",
              "  </div>\n",
              "\n",
              "\n",
              "<div id=\"df-76793f4b-b5d9-42e6-8484-3df26bb3c3a6\">\n",
              "  <button class=\"colab-df-quickchart\" onclick=\"quickchart('df-76793f4b-b5d9-42e6-8484-3df26bb3c3a6')\"\n",
              "            title=\"Suggest charts\"\n",
              "            style=\"display:none;\">\n",
              "\n",
              "<svg xmlns=\"http://www.w3.org/2000/svg\" height=\"24px\"viewBox=\"0 0 24 24\"\n",
              "     width=\"24px\">\n",
              "    <g>\n",
              "        <path d=\"M19 3H5c-1.1 0-2 .9-2 2v14c0 1.1.9 2 2 2h14c1.1 0 2-.9 2-2V5c0-1.1-.9-2-2-2zM9 17H7v-7h2v7zm4 0h-2V7h2v10zm4 0h-2v-4h2v4z\"/>\n",
              "    </g>\n",
              "</svg>\n",
              "  </button>\n",
              "\n",
              "<style>\n",
              "  .colab-df-quickchart {\n",
              "      --bg-color: #E8F0FE;\n",
              "      --fill-color: #1967D2;\n",
              "      --hover-bg-color: #E2EBFA;\n",
              "      --hover-fill-color: #174EA6;\n",
              "      --disabled-fill-color: #AAA;\n",
              "      --disabled-bg-color: #DDD;\n",
              "  }\n",
              "\n",
              "  [theme=dark] .colab-df-quickchart {\n",
              "      --bg-color: #3B4455;\n",
              "      --fill-color: #D2E3FC;\n",
              "      --hover-bg-color: #434B5C;\n",
              "      --hover-fill-color: #FFFFFF;\n",
              "      --disabled-bg-color: #3B4455;\n",
              "      --disabled-fill-color: #666;\n",
              "  }\n",
              "\n",
              "  .colab-df-quickchart {\n",
              "    background-color: var(--bg-color);\n",
              "    border: none;\n",
              "    border-radius: 50%;\n",
              "    cursor: pointer;\n",
              "    display: none;\n",
              "    fill: var(--fill-color);\n",
              "    height: 32px;\n",
              "    padding: 0;\n",
              "    width: 32px;\n",
              "  }\n",
              "\n",
              "  .colab-df-quickchart:hover {\n",
              "    background-color: var(--hover-bg-color);\n",
              "    box-shadow: 0 1px 2px rgba(60, 64, 67, 0.3), 0 1px 3px 1px rgba(60, 64, 67, 0.15);\n",
              "    fill: var(--button-hover-fill-color);\n",
              "  }\n",
              "\n",
              "  .colab-df-quickchart-complete:disabled,\n",
              "  .colab-df-quickchart-complete:disabled:hover {\n",
              "    background-color: var(--disabled-bg-color);\n",
              "    fill: var(--disabled-fill-color);\n",
              "    box-shadow: none;\n",
              "  }\n",
              "\n",
              "  .colab-df-spinner {\n",
              "    border: 2px solid var(--fill-color);\n",
              "    border-color: transparent;\n",
              "    border-bottom-color: var(--fill-color);\n",
              "    animation:\n",
              "      spin 1s steps(1) infinite;\n",
              "  }\n",
              "\n",
              "  @keyframes spin {\n",
              "    0% {\n",
              "      border-color: transparent;\n",
              "      border-bottom-color: var(--fill-color);\n",
              "      border-left-color: var(--fill-color);\n",
              "    }\n",
              "    20% {\n",
              "      border-color: transparent;\n",
              "      border-left-color: var(--fill-color);\n",
              "      border-top-color: var(--fill-color);\n",
              "    }\n",
              "    30% {\n",
              "      border-color: transparent;\n",
              "      border-left-color: var(--fill-color);\n",
              "      border-top-color: var(--fill-color);\n",
              "      border-right-color: var(--fill-color);\n",
              "    }\n",
              "    40% {\n",
              "      border-color: transparent;\n",
              "      border-right-color: var(--fill-color);\n",
              "      border-top-color: var(--fill-color);\n",
              "    }\n",
              "    60% {\n",
              "      border-color: transparent;\n",
              "      border-right-color: var(--fill-color);\n",
              "    }\n",
              "    80% {\n",
              "      border-color: transparent;\n",
              "      border-right-color: var(--fill-color);\n",
              "      border-bottom-color: var(--fill-color);\n",
              "    }\n",
              "    90% {\n",
              "      border-color: transparent;\n",
              "      border-bottom-color: var(--fill-color);\n",
              "    }\n",
              "  }\n",
              "</style>\n",
              "\n",
              "  <script>\n",
              "    async function quickchart(key) {\n",
              "      const quickchartButtonEl =\n",
              "        document.querySelector('#' + key + ' button');\n",
              "      quickchartButtonEl.disabled = true;  // To prevent multiple clicks.\n",
              "      quickchartButtonEl.classList.add('colab-df-spinner');\n",
              "      try {\n",
              "        const charts = await google.colab.kernel.invokeFunction(\n",
              "            'suggestCharts', [key], {});\n",
              "      } catch (error) {\n",
              "        console.error('Error during call to suggestCharts:', error);\n",
              "      }\n",
              "      quickchartButtonEl.classList.remove('colab-df-spinner');\n",
              "      quickchartButtonEl.classList.add('colab-df-quickchart-complete');\n",
              "    }\n",
              "    (() => {\n",
              "      let quickchartButtonEl =\n",
              "        document.querySelector('#df-76793f4b-b5d9-42e6-8484-3df26bb3c3a6 button');\n",
              "      quickchartButtonEl.style.display =\n",
              "        google.colab.kernel.accessAllowed ? 'block' : 'none';\n",
              "    })();\n",
              "  </script>\n",
              "</div>\n",
              "    </div>\n",
              "  </div>\n"
            ],
            "application/vnd.google.colaboratory.intrinsic+json": {
              "type": "dataframe",
              "variable_name": "df"
            }
          },
          "metadata": {},
          "execution_count": 5
        }
      ]
    },
    {
      "cell_type": "code",
      "source": [
        "df.tail()"
      ],
      "metadata": {
        "colab": {
          "base_uri": "https://localhost:8080/",
          "height": 206
        },
        "id": "C-vP8sXfVXCb",
        "outputId": "2585d3dd-4b92-4286-da3e-954e90845e63"
      },
      "execution_count": 6,
      "outputs": [
        {
          "output_type": "execute_result",
          "data": {
            "text/plain": [
              "        Unnamed: 0                                               text  label\n",
              "416804      416804  i feel like telling these horny devils to find...      2\n",
              "416805      416805  i began to realize that when i was feeling agi...      3\n",
              "416806      416806  i feel very curious be why previous early dawn...      5\n",
              "416807      416807  i feel that becuase of the tyranical nature of...      3\n",
              "416808      416808  i think that after i had spent some time inves...      5"
            ],
            "text/html": [
              "\n",
              "  <div id=\"df-8537a168-1de5-4410-b596-e59d683143f9\" class=\"colab-df-container\">\n",
              "    <div>\n",
              "<style scoped>\n",
              "    .dataframe tbody tr th:only-of-type {\n",
              "        vertical-align: middle;\n",
              "    }\n",
              "\n",
              "    .dataframe tbody tr th {\n",
              "        vertical-align: top;\n",
              "    }\n",
              "\n",
              "    .dataframe thead th {\n",
              "        text-align: right;\n",
              "    }\n",
              "</style>\n",
              "<table border=\"1\" class=\"dataframe\">\n",
              "  <thead>\n",
              "    <tr style=\"text-align: right;\">\n",
              "      <th></th>\n",
              "      <th>Unnamed: 0</th>\n",
              "      <th>text</th>\n",
              "      <th>label</th>\n",
              "    </tr>\n",
              "  </thead>\n",
              "  <tbody>\n",
              "    <tr>\n",
              "      <th>416804</th>\n",
              "      <td>416804</td>\n",
              "      <td>i feel like telling these horny devils to find...</td>\n",
              "      <td>2</td>\n",
              "    </tr>\n",
              "    <tr>\n",
              "      <th>416805</th>\n",
              "      <td>416805</td>\n",
              "      <td>i began to realize that when i was feeling agi...</td>\n",
              "      <td>3</td>\n",
              "    </tr>\n",
              "    <tr>\n",
              "      <th>416806</th>\n",
              "      <td>416806</td>\n",
              "      <td>i feel very curious be why previous early dawn...</td>\n",
              "      <td>5</td>\n",
              "    </tr>\n",
              "    <tr>\n",
              "      <th>416807</th>\n",
              "      <td>416807</td>\n",
              "      <td>i feel that becuase of the tyranical nature of...</td>\n",
              "      <td>3</td>\n",
              "    </tr>\n",
              "    <tr>\n",
              "      <th>416808</th>\n",
              "      <td>416808</td>\n",
              "      <td>i think that after i had spent some time inves...</td>\n",
              "      <td>5</td>\n",
              "    </tr>\n",
              "  </tbody>\n",
              "</table>\n",
              "</div>\n",
              "    <div class=\"colab-df-buttons\">\n",
              "\n",
              "  <div class=\"colab-df-container\">\n",
              "    <button class=\"colab-df-convert\" onclick=\"convertToInteractive('df-8537a168-1de5-4410-b596-e59d683143f9')\"\n",
              "            title=\"Convert this dataframe to an interactive table.\"\n",
              "            style=\"display:none;\">\n",
              "\n",
              "  <svg xmlns=\"http://www.w3.org/2000/svg\" height=\"24px\" viewBox=\"0 -960 960 960\">\n",
              "    <path d=\"M120-120v-720h720v720H120Zm60-500h600v-160H180v160Zm220 220h160v-160H400v160Zm0 220h160v-160H400v160ZM180-400h160v-160H180v160Zm440 0h160v-160H620v160ZM180-180h160v-160H180v160Zm440 0h160v-160H620v160Z\"/>\n",
              "  </svg>\n",
              "    </button>\n",
              "\n",
              "  <style>\n",
              "    .colab-df-container {\n",
              "      display:flex;\n",
              "      gap: 12px;\n",
              "    }\n",
              "\n",
              "    .colab-df-convert {\n",
              "      background-color: #E8F0FE;\n",
              "      border: none;\n",
              "      border-radius: 50%;\n",
              "      cursor: pointer;\n",
              "      display: none;\n",
              "      fill: #1967D2;\n",
              "      height: 32px;\n",
              "      padding: 0 0 0 0;\n",
              "      width: 32px;\n",
              "    }\n",
              "\n",
              "    .colab-df-convert:hover {\n",
              "      background-color: #E2EBFA;\n",
              "      box-shadow: 0px 1px 2px rgba(60, 64, 67, 0.3), 0px 1px 3px 1px rgba(60, 64, 67, 0.15);\n",
              "      fill: #174EA6;\n",
              "    }\n",
              "\n",
              "    .colab-df-buttons div {\n",
              "      margin-bottom: 4px;\n",
              "    }\n",
              "\n",
              "    [theme=dark] .colab-df-convert {\n",
              "      background-color: #3B4455;\n",
              "      fill: #D2E3FC;\n",
              "    }\n",
              "\n",
              "    [theme=dark] .colab-df-convert:hover {\n",
              "      background-color: #434B5C;\n",
              "      box-shadow: 0px 1px 3px 1px rgba(0, 0, 0, 0.15);\n",
              "      filter: drop-shadow(0px 1px 2px rgba(0, 0, 0, 0.3));\n",
              "      fill: #FFFFFF;\n",
              "    }\n",
              "  </style>\n",
              "\n",
              "    <script>\n",
              "      const buttonEl =\n",
              "        document.querySelector('#df-8537a168-1de5-4410-b596-e59d683143f9 button.colab-df-convert');\n",
              "      buttonEl.style.display =\n",
              "        google.colab.kernel.accessAllowed ? 'block' : 'none';\n",
              "\n",
              "      async function convertToInteractive(key) {\n",
              "        const element = document.querySelector('#df-8537a168-1de5-4410-b596-e59d683143f9');\n",
              "        const dataTable =\n",
              "          await google.colab.kernel.invokeFunction('convertToInteractive',\n",
              "                                                    [key], {});\n",
              "        if (!dataTable) return;\n",
              "\n",
              "        const docLinkHtml = 'Like what you see? Visit the ' +\n",
              "          '<a target=\"_blank\" href=https://colab.research.google.com/notebooks/data_table.ipynb>data table notebook</a>'\n",
              "          + ' to learn more about interactive tables.';\n",
              "        element.innerHTML = '';\n",
              "        dataTable['output_type'] = 'display_data';\n",
              "        await google.colab.output.renderOutput(dataTable, element);\n",
              "        const docLink = document.createElement('div');\n",
              "        docLink.innerHTML = docLinkHtml;\n",
              "        element.appendChild(docLink);\n",
              "      }\n",
              "    </script>\n",
              "  </div>\n",
              "\n",
              "\n",
              "<div id=\"df-c207d896-5eed-4fc9-80ca-5ecd5c83c926\">\n",
              "  <button class=\"colab-df-quickchart\" onclick=\"quickchart('df-c207d896-5eed-4fc9-80ca-5ecd5c83c926')\"\n",
              "            title=\"Suggest charts\"\n",
              "            style=\"display:none;\">\n",
              "\n",
              "<svg xmlns=\"http://www.w3.org/2000/svg\" height=\"24px\"viewBox=\"0 0 24 24\"\n",
              "     width=\"24px\">\n",
              "    <g>\n",
              "        <path d=\"M19 3H5c-1.1 0-2 .9-2 2v14c0 1.1.9 2 2 2h14c1.1 0 2-.9 2-2V5c0-1.1-.9-2-2-2zM9 17H7v-7h2v7zm4 0h-2V7h2v10zm4 0h-2v-4h2v4z\"/>\n",
              "    </g>\n",
              "</svg>\n",
              "  </button>\n",
              "\n",
              "<style>\n",
              "  .colab-df-quickchart {\n",
              "      --bg-color: #E8F0FE;\n",
              "      --fill-color: #1967D2;\n",
              "      --hover-bg-color: #E2EBFA;\n",
              "      --hover-fill-color: #174EA6;\n",
              "      --disabled-fill-color: #AAA;\n",
              "      --disabled-bg-color: #DDD;\n",
              "  }\n",
              "\n",
              "  [theme=dark] .colab-df-quickchart {\n",
              "      --bg-color: #3B4455;\n",
              "      --fill-color: #D2E3FC;\n",
              "      --hover-bg-color: #434B5C;\n",
              "      --hover-fill-color: #FFFFFF;\n",
              "      --disabled-bg-color: #3B4455;\n",
              "      --disabled-fill-color: #666;\n",
              "  }\n",
              "\n",
              "  .colab-df-quickchart {\n",
              "    background-color: var(--bg-color);\n",
              "    border: none;\n",
              "    border-radius: 50%;\n",
              "    cursor: pointer;\n",
              "    display: none;\n",
              "    fill: var(--fill-color);\n",
              "    height: 32px;\n",
              "    padding: 0;\n",
              "    width: 32px;\n",
              "  }\n",
              "\n",
              "  .colab-df-quickchart:hover {\n",
              "    background-color: var(--hover-bg-color);\n",
              "    box-shadow: 0 1px 2px rgba(60, 64, 67, 0.3), 0 1px 3px 1px rgba(60, 64, 67, 0.15);\n",
              "    fill: var(--button-hover-fill-color);\n",
              "  }\n",
              "\n",
              "  .colab-df-quickchart-complete:disabled,\n",
              "  .colab-df-quickchart-complete:disabled:hover {\n",
              "    background-color: var(--disabled-bg-color);\n",
              "    fill: var(--disabled-fill-color);\n",
              "    box-shadow: none;\n",
              "  }\n",
              "\n",
              "  .colab-df-spinner {\n",
              "    border: 2px solid var(--fill-color);\n",
              "    border-color: transparent;\n",
              "    border-bottom-color: var(--fill-color);\n",
              "    animation:\n",
              "      spin 1s steps(1) infinite;\n",
              "  }\n",
              "\n",
              "  @keyframes spin {\n",
              "    0% {\n",
              "      border-color: transparent;\n",
              "      border-bottom-color: var(--fill-color);\n",
              "      border-left-color: var(--fill-color);\n",
              "    }\n",
              "    20% {\n",
              "      border-color: transparent;\n",
              "      border-left-color: var(--fill-color);\n",
              "      border-top-color: var(--fill-color);\n",
              "    }\n",
              "    30% {\n",
              "      border-color: transparent;\n",
              "      border-left-color: var(--fill-color);\n",
              "      border-top-color: var(--fill-color);\n",
              "      border-right-color: var(--fill-color);\n",
              "    }\n",
              "    40% {\n",
              "      border-color: transparent;\n",
              "      border-right-color: var(--fill-color);\n",
              "      border-top-color: var(--fill-color);\n",
              "    }\n",
              "    60% {\n",
              "      border-color: transparent;\n",
              "      border-right-color: var(--fill-color);\n",
              "    }\n",
              "    80% {\n",
              "      border-color: transparent;\n",
              "      border-right-color: var(--fill-color);\n",
              "      border-bottom-color: var(--fill-color);\n",
              "    }\n",
              "    90% {\n",
              "      border-color: transparent;\n",
              "      border-bottom-color: var(--fill-color);\n",
              "    }\n",
              "  }\n",
              "</style>\n",
              "\n",
              "  <script>\n",
              "    async function quickchart(key) {\n",
              "      const quickchartButtonEl =\n",
              "        document.querySelector('#' + key + ' button');\n",
              "      quickchartButtonEl.disabled = true;  // To prevent multiple clicks.\n",
              "      quickchartButtonEl.classList.add('colab-df-spinner');\n",
              "      try {\n",
              "        const charts = await google.colab.kernel.invokeFunction(\n",
              "            'suggestCharts', [key], {});\n",
              "      } catch (error) {\n",
              "        console.error('Error during call to suggestCharts:', error);\n",
              "      }\n",
              "      quickchartButtonEl.classList.remove('colab-df-spinner');\n",
              "      quickchartButtonEl.classList.add('colab-df-quickchart-complete');\n",
              "    }\n",
              "    (() => {\n",
              "      let quickchartButtonEl =\n",
              "        document.querySelector('#df-c207d896-5eed-4fc9-80ca-5ecd5c83c926 button');\n",
              "      quickchartButtonEl.style.display =\n",
              "        google.colab.kernel.accessAllowed ? 'block' : 'none';\n",
              "    })();\n",
              "  </script>\n",
              "</div>\n",
              "    </div>\n",
              "  </div>\n"
            ],
            "application/vnd.google.colaboratory.intrinsic+json": {
              "type": "dataframe",
              "summary": "{\n  \"name\": \"df\",\n  \"rows\": 5,\n  \"fields\": [\n    {\n      \"column\": \"Unnamed: 0\",\n      \"properties\": {\n        \"dtype\": \"number\",\n        \"std\": 1,\n        \"min\": 416804,\n        \"max\": 416808,\n        \"num_unique_values\": 5,\n        \"samples\": [\n          416805,\n          416808,\n          416806\n        ],\n        \"semantic_type\": \"\",\n        \"description\": \"\"\n      }\n    },\n    {\n      \"column\": \"text\",\n      \"properties\": {\n        \"dtype\": \"string\",\n        \"num_unique_values\": 5,\n        \"samples\": [\n          \"i began to realize that when i was feeling agitated or restless that i would have a thought to go do the dishes\",\n          \"i think that after i had spent some time investigating the surroundings and things i started to feel more curious about other people\",\n          \"i feel very curious be why previous early dawn in the time here don t you seek his trouble\"\n        ],\n        \"semantic_type\": \"\",\n        \"description\": \"\"\n      }\n    },\n    {\n      \"column\": \"label\",\n      \"properties\": {\n        \"dtype\": \"number\",\n        \"std\": 1,\n        \"min\": 2,\n        \"max\": 5,\n        \"num_unique_values\": 3,\n        \"samples\": [\n          2,\n          3,\n          5\n        ],\n        \"semantic_type\": \"\",\n        \"description\": \"\"\n      }\n    }\n  ]\n}"
            }
          },
          "metadata": {},
          "execution_count": 6
        }
      ]
    },
    {
      "cell_type": "markdown",
      "source": [
        "*Проверка нулевых значений*"
      ],
      "metadata": {
        "id": "Ug26i_jZV6hS"
      }
    },
    {
      "cell_type": "code",
      "source": [
        "df.isnull().sum()"
      ],
      "metadata": {
        "colab": {
          "base_uri": "https://localhost:8080/",
          "height": 178
        },
        "id": "gRa8ofp2Vzk4",
        "outputId": "e7669916-a9a2-4486-f4db-75b3a86ff490"
      },
      "execution_count": 7,
      "outputs": [
        {
          "output_type": "execute_result",
          "data": {
            "text/plain": [
              "Unnamed: 0    0\n",
              "text          0\n",
              "label         0\n",
              "dtype: int64"
            ],
            "text/html": [
              "<div>\n",
              "<style scoped>\n",
              "    .dataframe tbody tr th:only-of-type {\n",
              "        vertical-align: middle;\n",
              "    }\n",
              "\n",
              "    .dataframe tbody tr th {\n",
              "        vertical-align: top;\n",
              "    }\n",
              "\n",
              "    .dataframe thead th {\n",
              "        text-align: right;\n",
              "    }\n",
              "</style>\n",
              "<table border=\"1\" class=\"dataframe\">\n",
              "  <thead>\n",
              "    <tr style=\"text-align: right;\">\n",
              "      <th></th>\n",
              "      <th>0</th>\n",
              "    </tr>\n",
              "  </thead>\n",
              "  <tbody>\n",
              "    <tr>\n",
              "      <th>Unnamed: 0</th>\n",
              "      <td>0</td>\n",
              "    </tr>\n",
              "    <tr>\n",
              "      <th>text</th>\n",
              "      <td>0</td>\n",
              "    </tr>\n",
              "    <tr>\n",
              "      <th>label</th>\n",
              "      <td>0</td>\n",
              "    </tr>\n",
              "  </tbody>\n",
              "</table>\n",
              "</div><br><label><b>dtype:</b> int64</label>"
            ]
          },
          "metadata": {},
          "execution_count": 7
        }
      ]
    },
    {
      "cell_type": "markdown",
      "source": [
        "*Проверка NaN значений*"
      ],
      "metadata": {
        "id": "kr2I7H49f-Fr"
      }
    },
    {
      "cell_type": "code",
      "source": [
        "df.isna().values.any()"
      ],
      "metadata": {
        "colab": {
          "base_uri": "https://localhost:8080/"
        },
        "id": "_m5PkPOkgB1d",
        "outputId": "08e20ec3-1a28-45f5-87fa-30de4391d950"
      },
      "execution_count": 8,
      "outputs": [
        {
          "output_type": "execute_result",
          "data": {
            "text/plain": [
              "False"
            ]
          },
          "metadata": {},
          "execution_count": 8
        }
      ]
    },
    {
      "cell_type": "markdown",
      "source": [
        "***Визуализируем данные***"
      ],
      "metadata": {
        "id": "6ijSZLR5WLTa"
      }
    },
    {
      "cell_type": "code",
      "source": [
        "plt.figure(figsize=(8, 6))\n",
        "label_counts = df['label'].value_counts()\n",
        "label_names = ['Sadness', 'Joy', 'Love', 'Anger', 'Fear', 'Surprise']\n",
        "label_counts.index = label_names\n",
        "label_counts.plot(kind='bar')\n",
        "plt.title('Эмоции в сообщениях Твиттер')\n",
        "plt.xlabel('Эмоции')\n",
        "plt.ylabel('Количество')\n",
        "plt.xticks(rotation=0)\n",
        "plt.show()"
      ],
      "metadata": {
        "colab": {
          "base_uri": "https://localhost:8080/",
          "height": 564
        },
        "id": "xOflwyA_XDTm",
        "outputId": "92fed7ad-faac-4f0a-dac9-c43ab2c766a8"
      },
      "execution_count": 9,
      "outputs": [
        {
          "output_type": "display_data",
          "data": {
            "text/plain": [
              "<Figure size 800x600 with 1 Axes>"
            ],
            "image/png": "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\n"
          },
          "metadata": {}
        }
      ]
    },
    {
      "cell_type": "markdown",
      "source": [
        "*Разбиваем датасет на тренировочный и тестовый*"
      ],
      "metadata": {
        "id": "KAsKMj0ygm9D"
      }
    },
    {
      "cell_type": "code",
      "source": [
        "X_train, X_test, y_train, y_test = train_test_split(df['text'], df['label'], test_size=0.2, random_state=42)"
      ],
      "metadata": {
        "id": "3UoM2jfMgvGQ"
      },
      "execution_count": 10,
      "outputs": []
    },
    {
      "cell_type": "code",
      "source": [
        "print('X_train:\\n',X_train)\n",
        "print('y_train:\\n',y_train)"
      ],
      "metadata": {
        "colab": {
          "base_uri": "https://localhost:8080/"
        },
        "id": "R_5MILfFjhnF",
        "outputId": "8c28d3f4-f7ec-419a-9d00-efc159eff351"
      },
      "execution_count": 11,
      "outputs": [
        {
          "output_type": "stream",
          "name": "stdout",
          "text": [
            "X_train:\n",
            " 146122    ive blabbed on enough for tonight im tired and...\n",
            "334806    i woke up really early this morning and drove ...\n",
            "182273    i feel i never gave myself a rest day after th...\n",
            "198898    i am feeling restless teary flat sad and stran...\n",
            "80779           i feel like im doomed before ive even began\n",
            "                                ...                        \n",
            "259178                           i feel love i fell beloved\n",
            "365838    i realized that often times that isnt the reac...\n",
            "131932                            i feel so envious of that\n",
            "146867    im still impatient frequently irritable and at...\n",
            "121958                       i feel weird in this apartment\n",
            "Name: text, Length: 333447, dtype: object\n",
            "y_train:\n",
            " 146122    0\n",
            "334806    1\n",
            "182273    3\n",
            "198898    4\n",
            "80779     0\n",
            "         ..\n",
            "259178    2\n",
            "365838    1\n",
            "131932    3\n",
            "146867    1\n",
            "121958    4\n",
            "Name: label, Length: 333447, dtype: int64\n"
          ]
        }
      ]
    },
    {
      "cell_type": "code",
      "source": [
        "print('X_test:\\n',X_test)\n",
        "print('y_test:\\n',y_test)"
      ],
      "metadata": {
        "colab": {
          "base_uri": "https://localhost:8080/"
        },
        "id": "_IY8NtT2ji2G",
        "outputId": "bdffe64f-5652-40b2-9c8d-35fc62558da5"
      },
      "execution_count": 12,
      "outputs": [
        {
          "output_type": "stream",
          "name": "stdout",
          "text": [
            "X_test:\n",
            " 36130     id say maybe made them feel foolish but that w...\n",
            "138065    i joined the lds church i admit to feeling som...\n",
            "146440    i must admit i didnt feel like hugging him not...\n",
            "103337    i hate that i can still feel if any nerve is d...\n",
            "315528                    im actually feeling a little smug\n",
            "                                ...                        \n",
            "7818      i need to know that the pain i feel is not in ...\n",
            "398821    i feel that this type of work really suits me ...\n",
            "235291    i just finished taking exams and i need to rel...\n",
            "148780    i swear there was more but between the firewor...\n",
            "409429    i sometimes feel that i am the most boring per...\n",
            "Name: text, Length: 83362, dtype: object\n",
            "y_test:\n",
            " 36130     0\n",
            "138065    0\n",
            "146440    3\n",
            "103337    0\n",
            "315528    1\n",
            "         ..\n",
            "7818      0\n",
            "398821    1\n",
            "235291    1\n",
            "148780    3\n",
            "409429    0\n",
            "Name: label, Length: 83362, dtype: int64\n"
          ]
        }
      ]
    },
    {
      "cell_type": "markdown",
      "source": [
        "***Векторизуем текстовые данные***"
      ],
      "metadata": {
        "id": "fP83dqYqkFke"
      }
    },
    {
      "cell_type": "code",
      "source": [
        "X_train, X_test, y_train, y_test = train_test_split(df['text'], df['label'], test_size=0.2, random_state=7)"
      ],
      "metadata": {
        "id": "hyY3T0P7DeTB"
      },
      "execution_count": 13,
      "outputs": []
    },
    {
      "cell_type": "code",
      "source": [
        "tfidf_vectorizer = TfidfVectorizer(max_features=1000)\n",
        "tfidf_train = tfidf_vectorizer.fit_transform(X_train)\n",
        "tfidf_test = tfidf_vectorizer.transform(X_test)"
      ],
      "metadata": {
        "id": "yk_nSkCIkrOi"
      },
      "execution_count": 14,
      "outputs": []
    },
    {
      "cell_type": "markdown",
      "source": [
        "***Создаем модель***"
      ],
      "metadata": {
        "id": "m5eKzZlGoCQH"
      }
    },
    {
      "cell_type": "code",
      "source": [
        "model = LogisticRegression(max_iter=1000)\n",
        "model.fit(tfidf_train, y_train)"
      ],
      "metadata": {
        "colab": {
          "base_uri": "https://localhost:8080/",
          "height": 80
        },
        "id": "iuP_OeUmoGY8",
        "outputId": "33acdf23-f5eb-4e12-ffd7-32f11b471f55"
      },
      "execution_count": 15,
      "outputs": [
        {
          "output_type": "execute_result",
          "data": {
            "text/plain": [
              "LogisticRegression(max_iter=1000)"
            ],
            "text/html": [
              "<style>#sk-container-id-1 {\n",
              "  /* Definition of color scheme common for light and dark mode */\n",
              "  --sklearn-color-text: black;\n",
              "  --sklearn-color-line: gray;\n",
              "  /* Definition of color scheme for unfitted estimators */\n",
              "  --sklearn-color-unfitted-level-0: #fff5e6;\n",
              "  --sklearn-color-unfitted-level-1: #f6e4d2;\n",
              "  --sklearn-color-unfitted-level-2: #ffe0b3;\n",
              "  --sklearn-color-unfitted-level-3: chocolate;\n",
              "  /* Definition of color scheme for fitted estimators */\n",
              "  --sklearn-color-fitted-level-0: #f0f8ff;\n",
              "  --sklearn-color-fitted-level-1: #d4ebff;\n",
              "  --sklearn-color-fitted-level-2: #b3dbfd;\n",
              "  --sklearn-color-fitted-level-3: cornflowerblue;\n",
              "\n",
              "  /* Specific color for light theme */\n",
              "  --sklearn-color-text-on-default-background: var(--sg-text-color, var(--theme-code-foreground, var(--jp-content-font-color1, black)));\n",
              "  --sklearn-color-background: var(--sg-background-color, var(--theme-background, var(--jp-layout-color0, white)));\n",
              "  --sklearn-color-border-box: var(--sg-text-color, var(--theme-code-foreground, var(--jp-content-font-color1, black)));\n",
              "  --sklearn-color-icon: #696969;\n",
              "\n",
              "  @media (prefers-color-scheme: dark) {\n",
              "    /* Redefinition of color scheme for dark theme */\n",
              "    --sklearn-color-text-on-default-background: var(--sg-text-color, var(--theme-code-foreground, var(--jp-content-font-color1, white)));\n",
              "    --sklearn-color-background: var(--sg-background-color, var(--theme-background, var(--jp-layout-color0, #111)));\n",
              "    --sklearn-color-border-box: var(--sg-text-color, var(--theme-code-foreground, var(--jp-content-font-color1, white)));\n",
              "    --sklearn-color-icon: #878787;\n",
              "  }\n",
              "}\n",
              "\n",
              "#sk-container-id-1 {\n",
              "  color: var(--sklearn-color-text);\n",
              "}\n",
              "\n",
              "#sk-container-id-1 pre {\n",
              "  padding: 0;\n",
              "}\n",
              "\n",
              "#sk-container-id-1 input.sk-hidden--visually {\n",
              "  border: 0;\n",
              "  clip: rect(1px 1px 1px 1px);\n",
              "  clip: rect(1px, 1px, 1px, 1px);\n",
              "  height: 1px;\n",
              "  margin: -1px;\n",
              "  overflow: hidden;\n",
              "  padding: 0;\n",
              "  position: absolute;\n",
              "  width: 1px;\n",
              "}\n",
              "\n",
              "#sk-container-id-1 div.sk-dashed-wrapped {\n",
              "  border: 1px dashed var(--sklearn-color-line);\n",
              "  margin: 0 0.4em 0.5em 0.4em;\n",
              "  box-sizing: border-box;\n",
              "  padding-bottom: 0.4em;\n",
              "  background-color: var(--sklearn-color-background);\n",
              "}\n",
              "\n",
              "#sk-container-id-1 div.sk-container {\n",
              "  /* jupyter's `normalize.less` sets `[hidden] { display: none; }`\n",
              "     but bootstrap.min.css set `[hidden] { display: none !important; }`\n",
              "     so we also need the `!important` here to be able to override the\n",
              "     default hidden behavior on the sphinx rendered scikit-learn.org.\n",
              "     See: https://github.com/scikit-learn/scikit-learn/issues/21755 */\n",
              "  display: inline-block !important;\n",
              "  position: relative;\n",
              "}\n",
              "\n",
              "#sk-container-id-1 div.sk-text-repr-fallback {\n",
              "  display: none;\n",
              "}\n",
              "\n",
              "div.sk-parallel-item,\n",
              "div.sk-serial,\n",
              "div.sk-item {\n",
              "  /* draw centered vertical line to link estimators */\n",
              "  background-image: linear-gradient(var(--sklearn-color-text-on-default-background), var(--sklearn-color-text-on-default-background));\n",
              "  background-size: 2px 100%;\n",
              "  background-repeat: no-repeat;\n",
              "  background-position: center center;\n",
              "}\n",
              "\n",
              "/* Parallel-specific style estimator block */\n",
              "\n",
              "#sk-container-id-1 div.sk-parallel-item::after {\n",
              "  content: \"\";\n",
              "  width: 100%;\n",
              "  border-bottom: 2px solid var(--sklearn-color-text-on-default-background);\n",
              "  flex-grow: 1;\n",
              "}\n",
              "\n",
              "#sk-container-id-1 div.sk-parallel {\n",
              "  display: flex;\n",
              "  align-items: stretch;\n",
              "  justify-content: center;\n",
              "  background-color: var(--sklearn-color-background);\n",
              "  position: relative;\n",
              "}\n",
              "\n",
              "#sk-container-id-1 div.sk-parallel-item {\n",
              "  display: flex;\n",
              "  flex-direction: column;\n",
              "}\n",
              "\n",
              "#sk-container-id-1 div.sk-parallel-item:first-child::after {\n",
              "  align-self: flex-end;\n",
              "  width: 50%;\n",
              "}\n",
              "\n",
              "#sk-container-id-1 div.sk-parallel-item:last-child::after {\n",
              "  align-self: flex-start;\n",
              "  width: 50%;\n",
              "}\n",
              "\n",
              "#sk-container-id-1 div.sk-parallel-item:only-child::after {\n",
              "  width: 0;\n",
              "}\n",
              "\n",
              "/* Serial-specific style estimator block */\n",
              "\n",
              "#sk-container-id-1 div.sk-serial {\n",
              "  display: flex;\n",
              "  flex-direction: column;\n",
              "  align-items: center;\n",
              "  background-color: var(--sklearn-color-background);\n",
              "  padding-right: 1em;\n",
              "  padding-left: 1em;\n",
              "}\n",
              "\n",
              "\n",
              "/* Toggleable style: style used for estimator/Pipeline/ColumnTransformer box that is\n",
              "clickable and can be expanded/collapsed.\n",
              "- Pipeline and ColumnTransformer use this feature and define the default style\n",
              "- Estimators will overwrite some part of the style using the `sk-estimator` class\n",
              "*/\n",
              "\n",
              "/* Pipeline and ColumnTransformer style (default) */\n",
              "\n",
              "#sk-container-id-1 div.sk-toggleable {\n",
              "  /* Default theme specific background. It is overwritten whether we have a\n",
              "  specific estimator or a Pipeline/ColumnTransformer */\n",
              "  background-color: var(--sklearn-color-background);\n",
              "}\n",
              "\n",
              "/* Toggleable label */\n",
              "#sk-container-id-1 label.sk-toggleable__label {\n",
              "  cursor: pointer;\n",
              "  display: block;\n",
              "  width: 100%;\n",
              "  margin-bottom: 0;\n",
              "  padding: 0.5em;\n",
              "  box-sizing: border-box;\n",
              "  text-align: center;\n",
              "}\n",
              "\n",
              "#sk-container-id-1 label.sk-toggleable__label-arrow:before {\n",
              "  /* Arrow on the left of the label */\n",
              "  content: \"▸\";\n",
              "  float: left;\n",
              "  margin-right: 0.25em;\n",
              "  color: var(--sklearn-color-icon);\n",
              "}\n",
              "\n",
              "#sk-container-id-1 label.sk-toggleable__label-arrow:hover:before {\n",
              "  color: var(--sklearn-color-text);\n",
              "}\n",
              "\n",
              "/* Toggleable content - dropdown */\n",
              "\n",
              "#sk-container-id-1 div.sk-toggleable__content {\n",
              "  max-height: 0;\n",
              "  max-width: 0;\n",
              "  overflow: hidden;\n",
              "  text-align: left;\n",
              "  /* unfitted */\n",
              "  background-color: var(--sklearn-color-unfitted-level-0);\n",
              "}\n",
              "\n",
              "#sk-container-id-1 div.sk-toggleable__content.fitted {\n",
              "  /* fitted */\n",
              "  background-color: var(--sklearn-color-fitted-level-0);\n",
              "}\n",
              "\n",
              "#sk-container-id-1 div.sk-toggleable__content pre {\n",
              "  margin: 0.2em;\n",
              "  border-radius: 0.25em;\n",
              "  color: var(--sklearn-color-text);\n",
              "  /* unfitted */\n",
              "  background-color: var(--sklearn-color-unfitted-level-0);\n",
              "}\n",
              "\n",
              "#sk-container-id-1 div.sk-toggleable__content.fitted pre {\n",
              "  /* unfitted */\n",
              "  background-color: var(--sklearn-color-fitted-level-0);\n",
              "}\n",
              "\n",
              "#sk-container-id-1 input.sk-toggleable__control:checked~div.sk-toggleable__content {\n",
              "  /* Expand drop-down */\n",
              "  max-height: 200px;\n",
              "  max-width: 100%;\n",
              "  overflow: auto;\n",
              "}\n",
              "\n",
              "#sk-container-id-1 input.sk-toggleable__control:checked~label.sk-toggleable__label-arrow:before {\n",
              "  content: \"▾\";\n",
              "}\n",
              "\n",
              "/* Pipeline/ColumnTransformer-specific style */\n",
              "\n",
              "#sk-container-id-1 div.sk-label input.sk-toggleable__control:checked~label.sk-toggleable__label {\n",
              "  color: var(--sklearn-color-text);\n",
              "  background-color: var(--sklearn-color-unfitted-level-2);\n",
              "}\n",
              "\n",
              "#sk-container-id-1 div.sk-label.fitted input.sk-toggleable__control:checked~label.sk-toggleable__label {\n",
              "  background-color: var(--sklearn-color-fitted-level-2);\n",
              "}\n",
              "\n",
              "/* Estimator-specific style */\n",
              "\n",
              "/* Colorize estimator box */\n",
              "#sk-container-id-1 div.sk-estimator input.sk-toggleable__control:checked~label.sk-toggleable__label {\n",
              "  /* unfitted */\n",
              "  background-color: var(--sklearn-color-unfitted-level-2);\n",
              "}\n",
              "\n",
              "#sk-container-id-1 div.sk-estimator.fitted input.sk-toggleable__control:checked~label.sk-toggleable__label {\n",
              "  /* fitted */\n",
              "  background-color: var(--sklearn-color-fitted-level-2);\n",
              "}\n",
              "\n",
              "#sk-container-id-1 div.sk-label label.sk-toggleable__label,\n",
              "#sk-container-id-1 div.sk-label label {\n",
              "  /* The background is the default theme color */\n",
              "  color: var(--sklearn-color-text-on-default-background);\n",
              "}\n",
              "\n",
              "/* On hover, darken the color of the background */\n",
              "#sk-container-id-1 div.sk-label:hover label.sk-toggleable__label {\n",
              "  color: var(--sklearn-color-text);\n",
              "  background-color: var(--sklearn-color-unfitted-level-2);\n",
              "}\n",
              "\n",
              "/* Label box, darken color on hover, fitted */\n",
              "#sk-container-id-1 div.sk-label.fitted:hover label.sk-toggleable__label.fitted {\n",
              "  color: var(--sklearn-color-text);\n",
              "  background-color: var(--sklearn-color-fitted-level-2);\n",
              "}\n",
              "\n",
              "/* Estimator label */\n",
              "\n",
              "#sk-container-id-1 div.sk-label label {\n",
              "  font-family: monospace;\n",
              "  font-weight: bold;\n",
              "  display: inline-block;\n",
              "  line-height: 1.2em;\n",
              "}\n",
              "\n",
              "#sk-container-id-1 div.sk-label-container {\n",
              "  text-align: center;\n",
              "}\n",
              "\n",
              "/* Estimator-specific */\n",
              "#sk-container-id-1 div.sk-estimator {\n",
              "  font-family: monospace;\n",
              "  border: 1px dotted var(--sklearn-color-border-box);\n",
              "  border-radius: 0.25em;\n",
              "  box-sizing: border-box;\n",
              "  margin-bottom: 0.5em;\n",
              "  /* unfitted */\n",
              "  background-color: var(--sklearn-color-unfitted-level-0);\n",
              "}\n",
              "\n",
              "#sk-container-id-1 div.sk-estimator.fitted {\n",
              "  /* fitted */\n",
              "  background-color: var(--sklearn-color-fitted-level-0);\n",
              "}\n",
              "\n",
              "/* on hover */\n",
              "#sk-container-id-1 div.sk-estimator:hover {\n",
              "  /* unfitted */\n",
              "  background-color: var(--sklearn-color-unfitted-level-2);\n",
              "}\n",
              "\n",
              "#sk-container-id-1 div.sk-estimator.fitted:hover {\n",
              "  /* fitted */\n",
              "  background-color: var(--sklearn-color-fitted-level-2);\n",
              "}\n",
              "\n",
              "/* Specification for estimator info (e.g. \"i\" and \"?\") */\n",
              "\n",
              "/* Common style for \"i\" and \"?\" */\n",
              "\n",
              ".sk-estimator-doc-link,\n",
              "a:link.sk-estimator-doc-link,\n",
              "a:visited.sk-estimator-doc-link {\n",
              "  float: right;\n",
              "  font-size: smaller;\n",
              "  line-height: 1em;\n",
              "  font-family: monospace;\n",
              "  background-color: var(--sklearn-color-background);\n",
              "  border-radius: 1em;\n",
              "  height: 1em;\n",
              "  width: 1em;\n",
              "  text-decoration: none !important;\n",
              "  margin-left: 1ex;\n",
              "  /* unfitted */\n",
              "  border: var(--sklearn-color-unfitted-level-1) 1pt solid;\n",
              "  color: var(--sklearn-color-unfitted-level-1);\n",
              "}\n",
              "\n",
              ".sk-estimator-doc-link.fitted,\n",
              "a:link.sk-estimator-doc-link.fitted,\n",
              "a:visited.sk-estimator-doc-link.fitted {\n",
              "  /* fitted */\n",
              "  border: var(--sklearn-color-fitted-level-1) 1pt solid;\n",
              "  color: var(--sklearn-color-fitted-level-1);\n",
              "}\n",
              "\n",
              "/* On hover */\n",
              "div.sk-estimator:hover .sk-estimator-doc-link:hover,\n",
              ".sk-estimator-doc-link:hover,\n",
              "div.sk-label-container:hover .sk-estimator-doc-link:hover,\n",
              ".sk-estimator-doc-link:hover {\n",
              "  /* unfitted */\n",
              "  background-color: var(--sklearn-color-unfitted-level-3);\n",
              "  color: var(--sklearn-color-background);\n",
              "  text-decoration: none;\n",
              "}\n",
              "\n",
              "div.sk-estimator.fitted:hover .sk-estimator-doc-link.fitted:hover,\n",
              ".sk-estimator-doc-link.fitted:hover,\n",
              "div.sk-label-container:hover .sk-estimator-doc-link.fitted:hover,\n",
              ".sk-estimator-doc-link.fitted:hover {\n",
              "  /* fitted */\n",
              "  background-color: var(--sklearn-color-fitted-level-3);\n",
              "  color: var(--sklearn-color-background);\n",
              "  text-decoration: none;\n",
              "}\n",
              "\n",
              "/* Span, style for the box shown on hovering the info icon */\n",
              ".sk-estimator-doc-link span {\n",
              "  display: none;\n",
              "  z-index: 9999;\n",
              "  position: relative;\n",
              "  font-weight: normal;\n",
              "  right: .2ex;\n",
              "  padding: .5ex;\n",
              "  margin: .5ex;\n",
              "  width: min-content;\n",
              "  min-width: 20ex;\n",
              "  max-width: 50ex;\n",
              "  color: var(--sklearn-color-text);\n",
              "  box-shadow: 2pt 2pt 4pt #999;\n",
              "  /* unfitted */\n",
              "  background: var(--sklearn-color-unfitted-level-0);\n",
              "  border: .5pt solid var(--sklearn-color-unfitted-level-3);\n",
              "}\n",
              "\n",
              ".sk-estimator-doc-link.fitted span {\n",
              "  /* fitted */\n",
              "  background: var(--sklearn-color-fitted-level-0);\n",
              "  border: var(--sklearn-color-fitted-level-3);\n",
              "}\n",
              "\n",
              ".sk-estimator-doc-link:hover span {\n",
              "  display: block;\n",
              "}\n",
              "\n",
              "/* \"?\"-specific style due to the `<a>` HTML tag */\n",
              "\n",
              "#sk-container-id-1 a.estimator_doc_link {\n",
              "  float: right;\n",
              "  font-size: 1rem;\n",
              "  line-height: 1em;\n",
              "  font-family: monospace;\n",
              "  background-color: var(--sklearn-color-background);\n",
              "  border-radius: 1rem;\n",
              "  height: 1rem;\n",
              "  width: 1rem;\n",
              "  text-decoration: none;\n",
              "  /* unfitted */\n",
              "  color: var(--sklearn-color-unfitted-level-1);\n",
              "  border: var(--sklearn-color-unfitted-level-1) 1pt solid;\n",
              "}\n",
              "\n",
              "#sk-container-id-1 a.estimator_doc_link.fitted {\n",
              "  /* fitted */\n",
              "  border: var(--sklearn-color-fitted-level-1) 1pt solid;\n",
              "  color: var(--sklearn-color-fitted-level-1);\n",
              "}\n",
              "\n",
              "/* On hover */\n",
              "#sk-container-id-1 a.estimator_doc_link:hover {\n",
              "  /* unfitted */\n",
              "  background-color: var(--sklearn-color-unfitted-level-3);\n",
              "  color: var(--sklearn-color-background);\n",
              "  text-decoration: none;\n",
              "}\n",
              "\n",
              "#sk-container-id-1 a.estimator_doc_link.fitted:hover {\n",
              "  /* fitted */\n",
              "  background-color: var(--sklearn-color-fitted-level-3);\n",
              "}\n",
              "</style><div id=\"sk-container-id-1\" class=\"sk-top-container\"><div class=\"sk-text-repr-fallback\"><pre>LogisticRegression(max_iter=1000)</pre><b>In a Jupyter environment, please rerun this cell to show the HTML representation or trust the notebook. <br />On GitHub, the HTML representation is unable to render, please try loading this page with nbviewer.org.</b></div><div class=\"sk-container\" hidden><div class=\"sk-item\"><div class=\"sk-estimator fitted sk-toggleable\"><input class=\"sk-toggleable__control sk-hidden--visually\" id=\"sk-estimator-id-1\" type=\"checkbox\" checked><label for=\"sk-estimator-id-1\" class=\"sk-toggleable__label fitted sk-toggleable__label-arrow fitted\">&nbsp;&nbsp;LogisticRegression<a class=\"sk-estimator-doc-link fitted\" rel=\"noreferrer\" target=\"_blank\" href=\"https://scikit-learn.org/1.5/modules/generated/sklearn.linear_model.LogisticRegression.html\">?<span>Documentation for LogisticRegression</span></a><span class=\"sk-estimator-doc-link fitted\">i<span>Fitted</span></span></label><div class=\"sk-toggleable__content fitted\"><pre>LogisticRegression(max_iter=1000)</pre></div> </div></div></div></div>"
            ]
          },
          "metadata": {},
          "execution_count": 15
        }
      ]
    },
    {
      "cell_type": "markdown",
      "source": [
        "***Оценка модели***"
      ],
      "metadata": {
        "id": "SJPXF8FYZzbn"
      }
    },
    {
      "cell_type": "code",
      "source": [
        "y_pred = model.predict(tfidf_test)\n",
        "accuracy = accuracy_score(y_test, y_pred)\n",
        "conf_matrix = confusion_matrix(y_test, y_pred)\n",
        "print(\"Точность:\", accuracy)\n",
        "print(\"Матрица путаницы:\\n\", conf_matrix)"
      ],
      "metadata": {
        "colab": {
          "base_uri": "https://localhost:8080/"
        },
        "id": "CpCYYAtcmyDL",
        "outputId": "41a5ccac-a37f-468f-c24c-2bc78828e523"
      },
      "execution_count": 16,
      "outputs": [
        {
          "output_type": "stream",
          "name": "stdout",
          "text": [
            "Точность: 0.8569132218516831\n",
            "Матрица путаницы:\n",
            " [[21989  1198    91   569   345    45]\n",
            " [  686 26066   950   229   184   143]\n",
            " [  204  1680  4931    78    33    11]\n",
            " [  897  1019    70  9141   337    26]\n",
            " [  635   814    32   373  7295   357]\n",
            " [   79   282    18    24   519  2012]]\n"
          ]
        }
      ]
    },
    {
      "cell_type": "markdown",
      "source": [
        "*Создаем отчет*"
      ],
      "metadata": {
        "id": "WDzJnAZfoxWt"
      }
    },
    {
      "cell_type": "code",
      "source": [
        "print('\\n clasification report:\\n', classification_report(y_test, y_pred))"
      ],
      "metadata": {
        "colab": {
          "base_uri": "https://localhost:8080/"
        },
        "id": "yFVjIiF1olEs",
        "outputId": "67bbe3d0-137a-4367-e35c-f0ce90fac569"
      },
      "execution_count": 19,
      "outputs": [
        {
          "output_type": "stream",
          "name": "stdout",
          "text": [
            "\n",
            " clasification report:\n",
            "               precision    recall  f1-score   support\n",
            "\n",
            "           0       0.90      0.91      0.90     24237\n",
            "           1       0.84      0.92      0.88     28258\n",
            "           2       0.81      0.71      0.76      6937\n",
            "           3       0.88      0.80      0.83     11490\n",
            "           4       0.84      0.77      0.80      9506\n",
            "           5       0.78      0.69      0.73      2934\n",
            "\n",
            "    accuracy                           0.86     83362\n",
            "   macro avg       0.84      0.80      0.82     83362\n",
            "weighted avg       0.86      0.86      0.86     83362\n",
            "\n"
          ]
        }
      ]
    },
    {
      "cell_type": "code",
      "source": [
        "plt.figure(figsize=(8, 6))\n",
        "sns.heatmap(conf_matrix, annot=True, fmt='d', cmap='Blues', cbar=False)\n",
        "plt.title('Матрица путаницы')\n",
        "plt.xlabel('Предсказанная метка')\n",
        "plt.ylabel('Истинная метка')\n",
        "plt.show()"
      ],
      "metadata": {
        "colab": {
          "base_uri": "https://localhost:8080/",
          "height": 564
        },
        "id": "pGW66LzcaNPw",
        "outputId": "bae06018-2c6c-43aa-a56a-e90ef35a3a6b"
      },
      "execution_count": 17,
      "outputs": [
        {
          "output_type": "display_data",
          "data": {
            "text/plain": [
              "<Figure size 800x600 with 1 Axes>"
            ],
            "image/png": "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\n"
          },
          "metadata": {}
        }
      ]
    },
    {
      "cell_type": "code",
      "source": [
        "# ii = ['WOW! It`s really fun!']\n",
        "ii = [\"People, help me, I'm very scared. Someone is knocking on my window.'\"]"
      ],
      "metadata": {
        "id": "Jz2Yp6DDo-VU"
      },
      "execution_count": 43,
      "outputs": []
    },
    {
      "cell_type": "code",
      "source": [
        "ii = tfidf_vectorizer.transform(ii)\n",
        "y_pred = model.predict(ii)"
      ],
      "metadata": {
        "id": "OtqG9SPnpEhe"
      },
      "execution_count": 44,
      "outputs": []
    },
    {
      "cell_type": "code",
      "source": [
        "y_pred"
      ],
      "metadata": {
        "colab": {
          "base_uri": "https://localhost:8080/"
        },
        "id": "GyRjOzaMpsb5",
        "outputId": "086983ef-65ca-49b0-b3a6-5d6e7bd32216"
      },
      "execution_count": 45,
      "outputs": [
        {
          "output_type": "execute_result",
          "data": {
            "text/plain": [
              "array([4])"
            ]
          },
          "metadata": {},
          "execution_count": 45
        }
      ]
    },
    {
      "cell_type": "code",
      "source": [
        "def test_comment(ii):\n",
        "  ii = [input('Comment: ')]\n",
        "  category_dict = {0: \"Sadness\", 1: \"Joy\", 2: \"Love\", 3: \"Anger\", 4: \"Fear\", 5: \"Surprise\"}\n",
        "\n",
        "  ii = tfidf_vectorizer.transform(ii)\n",
        "  y_pred = model.predict(ii)\n",
        "\n",
        "  return f'Комментарий классифицируется как: {category_dict[y_pred[0]]}'"
      ],
      "metadata": {
        "id": "810kaNr6sYWh"
      },
      "execution_count": 70,
      "outputs": []
    },
    {
      "cell_type": "code",
      "source": [
        "test_comment(ii)"
      ],
      "metadata": {
        "colab": {
          "base_uri": "https://localhost:8080/",
          "height": 53
        },
        "id": "crAL_QFysuQR",
        "outputId": "4fd62ef7-4e8c-412c-e8e4-87f68a323815"
      },
      "execution_count": 71,
      "outputs": [
        {
          "name": "stdout",
          "output_type": "stream",
          "text": [
            "Comment: People, help me, I'm very scared. Someone is knocking on my window.\n"
          ]
        },
        {
          "output_type": "execute_result",
          "data": {
            "text/plain": [
              "'Комментарий классифицируется как: Fear'"
            ],
            "application/vnd.google.colaboratory.intrinsic+json": {
              "type": "string"
            }
          },
          "metadata": {},
          "execution_count": 71
        }
      ]
    }
  ]
}
